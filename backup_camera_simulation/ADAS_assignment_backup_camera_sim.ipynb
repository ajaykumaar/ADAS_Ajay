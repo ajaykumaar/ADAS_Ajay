{
  "nbformat": 4,
  "nbformat_minor": 0,
  "metadata": {
    "colab": {
      "provenance": []
    },
    "kernelspec": {
      "name": "python3",
      "display_name": "Python 3"
    },
    "language_info": {
      "name": "python"
    }
  },
  "cells": [
    {
      "cell_type": "code",
      "source": [
        "import numpy as np"
      ],
      "metadata": {
        "id": "8LJz6s1RM_ec"
      },
      "execution_count": 1,
      "outputs": []
    },
    {
      "cell_type": "code",
      "source": [
        "R = L/np.tan(np.deg2rad(delta)) #radius\n",
        "R"
      ],
      "metadata": {
        "colab": {
          "base_uri": "https://localhost:8080/"
        },
        "id": "rxoLeUkDM_Yy",
        "outputId": "3b8fe406-6d72-42ed-b346-1515a143aa62"
      },
      "execution_count": 7,
      "outputs": [
        {
          "output_type": "execute_result",
          "data": {
            "text/plain": [
              "5.196152422706632"
            ]
          },
          "metadata": {},
          "execution_count": 7
        }
      ]
    },
    {
      "cell_type": "code",
      "source": [
        "import sympy\n",
        "from sympy import *"
      ],
      "metadata": {
        "id": "O_yh22jmM_TY"
      },
      "execution_count": 9,
      "outputs": []
    },
    {
      "cell_type": "code",
      "source": [
        "t = symbols('t')\n",
        "theta = symbols('theta', cls=Function)\n",
        "V, L, delta = symbols('V L delta', real = True)"
      ],
      "metadata": {
        "id": "Bn_fiZvXM_Qz"
      },
      "execution_count": 38,
      "outputs": []
    },
    {
      "cell_type": "code",
      "source": [
        "eqn = Eq(theta(t).diff(t), (V*sympy.tan(delta))/L )\n",
        "eqn"
      ],
      "metadata": {
        "colab": {
          "base_uri": "https://localhost:8080/",
          "height": 53
        },
        "id": "rkaSFcP2M_OJ",
        "outputId": "57854494-f019-41e9-bb93-ca043e1ab075"
      },
      "execution_count": 36,
      "outputs": [
        {
          "output_type": "execute_result",
          "data": {
            "text/plain": [
              "Eq(Derivative(theta(t), t), V*tan(delta)/L)"
            ],
            "text/latex": "$\\displaystyle \\frac{d}{d t} \\theta{\\left(t \\right)} = \\frac{V \\tan{\\left(\\delta \\right)}}{L}$"
          },
          "metadata": {},
          "execution_count": 36
        }
      ]
    },
    {
      "cell_type": "code",
      "source": [
        "an_sol = dsolve(eqn)\n",
        "an_sol"
      ],
      "metadata": {
        "colab": {
          "base_uri": "https://localhost:8080/",
          "height": 53
        },
        "id": "SdbCgJBxM_LU",
        "outputId": "f1fd89d7-c3d2-46f5-d010-9a75123a4572"
      },
      "execution_count": 37,
      "outputs": [
        {
          "output_type": "execute_result",
          "data": {
            "text/plain": [
              "Eq(theta(t), C1 + V*t*tan(delta)/L)"
            ],
            "text/latex": "$\\displaystyle \\theta{\\left(t \\right)} = C_{1} + \\frac{V t \\tan{\\left(\\delta \\right)}}{L}$"
          },
          "metadata": {},
          "execution_count": 37
        }
      ]
    },
    {
      "cell_type": "code",
      "source": [
        "x,y = symbols('x y', cls=Function)\n",
        "t = symbols('t')\n",
        "theta = symbols('theta', cls=Function)\n",
        "V, L, delta = symbols('V L delta', real = True)"
      ],
      "metadata": {
        "id": "fjpsDsOUQRfm"
      },
      "execution_count": 46,
      "outputs": []
    },
    {
      "cell_type": "code",
      "source": [
        "theta = (V*t*sympy.tan(delta))/L\n",
        "theta"
      ],
      "metadata": {
        "colab": {
          "base_uri": "https://localhost:8080/",
          "height": 53
        },
        "id": "QVjTOACKQxJl",
        "outputId": "4f674caf-328e-450f-c05a-c85226a3d3fd"
      },
      "execution_count": 47,
      "outputs": [
        {
          "output_type": "execute_result",
          "data": {
            "text/plain": [
              "V*t*tan(delta)/L"
            ],
            "text/latex": "$\\displaystyle \\frac{V t \\tan{\\left(\\delta \\right)}}{L}$"
          },
          "metadata": {},
          "execution_count": 47
        }
      ]
    },
    {
      "cell_type": "code",
      "source": [
        "eqn_x = Eq(x(t).diff(t), V*sympy.cos(theta))\n",
        "eqn_x"
      ],
      "metadata": {
        "colab": {
          "base_uri": "https://localhost:8080/",
          "height": 58
        },
        "id": "mqnMlHfiM_In",
        "outputId": "43aa45ec-ab6f-4fce-b701-a230a499d4d6"
      },
      "execution_count": 48,
      "outputs": [
        {
          "output_type": "execute_result",
          "data": {
            "text/plain": [
              "Eq(Derivative(x(t), t), V*cos(V*t*tan(delta)/L))"
            ],
            "text/latex": "$\\displaystyle \\frac{d}{d t} x{\\left(t \\right)} = V \\cos{\\left(\\frac{V t \\tan{\\left(\\delta \\right)}}{L} \\right)}$"
          },
          "metadata": {},
          "execution_count": 48
        }
      ]
    },
    {
      "cell_type": "code",
      "source": [
        "x_sol = dsolve(eqn_x)\n",
        "x_sol"
      ],
      "metadata": {
        "colab": {
          "base_uri": "https://localhost:8080/",
          "height": 70
        },
        "id": "PxgGlLk3RVWb",
        "outputId": "4d470586-a44e-41f9-cd2b-ae50de1ea4e9"
      },
      "execution_count": 50,
      "outputs": [
        {
          "output_type": "execute_result",
          "data": {
            "text/plain": [
              "Eq(x(t), C1 + L*sin(V*t*tan(delta)/L)/tan(delta))"
            ],
            "text/latex": "$\\displaystyle x{\\left(t \\right)} = C_{1} + \\frac{L \\sin{\\left(\\frac{V t \\tan{\\left(\\delta \\right)}}{L} \\right)}}{\\tan{\\left(\\delta \\right)}}$"
          },
          "metadata": {},
          "execution_count": 50
        }
      ]
    },
    {
      "cell_type": "code",
      "source": [
        "eqn_y = Eq(y(t).diff(t), V*sympy.sin(theta))\n",
        "eqn_y"
      ],
      "metadata": {
        "colab": {
          "base_uri": "https://localhost:8080/",
          "height": 58
        },
        "id": "fQZgEkhFQDdL",
        "outputId": "5ad0ff2f-6283-41d4-fa64-44ec8019b1d8"
      },
      "execution_count": 49,
      "outputs": [
        {
          "output_type": "execute_result",
          "data": {
            "text/plain": [
              "Eq(Derivative(y(t), t), V*sin(V*t*tan(delta)/L))"
            ],
            "text/latex": "$\\displaystyle \\frac{d}{d t} y{\\left(t \\right)} = V \\sin{\\left(\\frac{V t \\tan{\\left(\\delta \\right)}}{L} \\right)}$"
          },
          "metadata": {},
          "execution_count": 49
        }
      ]
    },
    {
      "cell_type": "code",
      "source": [
        "y_sol = dsolve(eqn_y)\n",
        "y_sol"
      ],
      "metadata": {
        "colab": {
          "base_uri": "https://localhost:8080/",
          "height": 70
        },
        "id": "3gaR9xP5QDZn",
        "outputId": "ec6e8cd4-a50b-4407-c027-a4fa90b02ec3"
      },
      "execution_count": 51,
      "outputs": [
        {
          "output_type": "execute_result",
          "data": {
            "text/plain": [
              "Eq(y(t), C1 - L*cos(V*t*tan(delta)/L)/tan(delta))"
            ],
            "text/latex": "$\\displaystyle y{\\left(t \\right)} = C_{1} - \\frac{L \\cos{\\left(\\frac{V t \\tan{\\left(\\delta \\right)}}{L} \\right)}}{\\tan{\\left(\\delta \\right)}}$"
          },
          "metadata": {},
          "execution_count": 51
        }
      ]
    },
    {
      "cell_type": "code",
      "source": [
        "\"\"\"\n",
        "L = 3 # wheelbase in meters\n",
        "delta = 30 #steering angle in degree (Assuming a constant steering angle)\n",
        "v = 10 #constant velocity in m/s\n",
        "\"\"\""
      ],
      "metadata": {
        "colab": {
          "base_uri": "https://localhost:8080/",
          "height": 53
        },
        "id": "xNPiZzVfjMSq",
        "outputId": "82e121ad-a24e-4f92-b26d-ab61a02ffb6d"
      },
      "execution_count": 56,
      "outputs": [
        {
          "output_type": "execute_result",
          "data": {
            "text/plain": [
              "'\\nL = 3 # wheelbase in meters\\ndelta = 30 #steering angle in degree (Assuming a constant steering angle)\\nv = 10 #constant velocity in m/s\\n'"
            ],
            "application/vnd.google.colaboratory.intrinsic+json": {
              "type": "string"
            }
          },
          "metadata": {},
          "execution_count": 56
        }
      ]
    },
    {
      "cell_type": "code",
      "source": [
        "theta.subs({L:3.0, V:10.0})\n"
      ],
      "metadata": {
        "colab": {
          "base_uri": "https://localhost:8080/",
          "height": 39
        },
        "id": "BtLzTCdaPXrL",
        "outputId": "dc54c834-56fd-45d8-de3e-3aff980d25c7"
      },
      "execution_count": 58,
      "outputs": [
        {
          "output_type": "execute_result",
          "data": {
            "text/plain": [
              "3.33333333333333*t*tan(delta)"
            ],
            "text/latex": "$\\displaystyle 3.33333333333333 t \\tan{\\left(\\delta \\right)}$"
          },
          "metadata": {},
          "execution_count": 58
        }
      ]
    },
    {
      "cell_type": "code",
      "source": [
        "y_sol.subs({L:3.0, V:10.0})"
      ],
      "metadata": {
        "colab": {
          "base_uri": "https://localhost:8080/",
          "height": 57
        },
        "id": "NbG0N5AePXnm",
        "outputId": "73b9e142-ac48-4839-ab71-02b9d98b9cd9"
      },
      "execution_count": 62,
      "outputs": [
        {
          "output_type": "execute_result",
          "data": {
            "text/plain": [
              "Eq(y(t), C1 - 3.0*cos(3.33333333333333*t*tan(delta))/tan(delta))"
            ],
            "text/latex": "$\\displaystyle y{\\left(t \\right)} = C_{1} - \\frac{3.0 \\cos{\\left(3.33333333333333 t \\tan{\\left(\\delta \\right)} \\right)}}{\\tan{\\left(\\delta \\right)}}$"
          },
          "metadata": {},
          "execution_count": 62
        }
      ]
    },
    {
      "cell_type": "code",
      "source": [
        "x_sol.subs({L:3.0, V:10.0})"
      ],
      "metadata": {
        "colab": {
          "base_uri": "https://localhost:8080/",
          "height": 57
        },
        "id": "0Cpih8H8RoQM",
        "outputId": "e162c47b-e6ac-4796-95ee-0754961d6535"
      },
      "execution_count": 70,
      "outputs": [
        {
          "output_type": "execute_result",
          "data": {
            "text/plain": [
              "Eq(x(t), C1 + 3.0*sin(3.33333333333333*t*tan(delta))/tan(delta))"
            ],
            "text/latex": "$\\displaystyle x{\\left(t \\right)} = C_{1} + \\frac{3.0 \\sin{\\left(3.33333333333333 t \\tan{\\left(\\delta \\right)} \\right)}}{\\tan{\\left(\\delta \\right)}}$"
          },
          "metadata": {},
          "execution_count": 70
        }
      ]
    },
    {
      "cell_type": "markdown",
      "source": [
        "**Main code**"
      ],
      "metadata": {
        "id": "QACSfBJcyW0M"
      }
    },
    {
      "cell_type": "code",
      "source": [
        "###### plotting the trajectory"
      ],
      "metadata": {
        "id": "AYHi1VHyRoM-"
      },
      "execution_count": 73,
      "outputs": []
    },
    {
      "cell_type": "code",
      "source": [
        "import matplotlib.pyplot as plt\n",
        "import seaborn as sns\n",
        "import numpy as np\n",
        "import cv2\n",
        "from google.colab.patches import cv2_imshow"
      ],
      "metadata": {
        "id": "Nhe0DvFlW59-"
      },
      "execution_count": 47,
      "outputs": []
    },
    {
      "cell_type": "code",
      "source": [
        "#steering angle from video\n",
        "steering= np.array([331, 331, 331, 331, 331, 331, 331, 331, 331, 331, 331, 331, 331, 331, 331, 331, 331, 332, 332, 332, 332, 332, 332, 332, 332, 332, 333, 333, 333, 333, 333, 333, 334, 334, 334, 334, 335, 335, 335, 335, 336, 336, 336, 337, 337, 338, 338, 338, 339, 339, 339, 340, 340, 341, 341, 341, 342, 342, 343, 343, 343, 344, 344, 344, 345, 345, 346, 346, 346, 347, 347, 348, 348, 348, 349, 349, 350, 350, 351, 351, 351, 352, 352, 353, 353, 354, 354, 355, 355, 355, 356, 356, 357, 357, 357, 358, 358, 359, 359, 359, 360, 360, 361, 361, 361, 362, 362, 362, 362, 363, 363, 363, 363, 364, 364, 364, 364, 365, 365, 365, 365, 365, 365, 365, 365, 364, 364, 364, 364, 363, 363, 362, 362, 361, 361, 361, 360, 359, 359, 358, 358, 357, 357, 356, 356, 355, 355, 354, 354, 353, 353, 352, 351, 351, 350, 349, 349, 348, 347, 347, 346, 345, 345, 344, 343, 343, 342, 342, 341, 340, 340, 339, 338, 338, 337, 336, 336, 335, 335, 334, 333, 333, 332, 332, 331, 330, 330, 329, 328, 328, 327, 326, 326, 325, 324, 324, 323, 323, 322, 321, 321, 320, 320, 319, 319, 318 ,318, 317, 317, 316, 316, 315, 315, 315, 314, 314, 314, 313, 313, 313, 312, 312, 312, 311, 311, 311, 311, 311, 310, 310, 310, 310, 310, 310, 310, 310, 310, 310, 310, 310, 310, 311, 311, 311, 312, 312, 312, 312, 313, 313, 314, 314, 315, 316, 316, 317, 318, 318, 319, 320, 320, 321, 321, 322, 323, 323, 324, 324, 325, 325, 326, 326, 327, 328, 328, 328, 329, 329, 330, 330, 330, 331, 331, 332, 332, 332, 333, 333, 333, 333, 334, 334, 334, 334, 334, 334, 334, 335, 335, 335, 335, 335, 335, 335, 335, 335, 335, 335, 335])"
      ],
      "metadata": {
        "id": "GwbNUXV_hv6K"
      },
      "execution_count": 139,
      "outputs": []
    },
    {
      "cell_type": "code",
      "source": [
        "steering_angle_array = [ np.deg2rad(s - 330) for s in steering]"
      ],
      "metadata": {
        "id": "LfXi04A5jM_x"
      },
      "execution_count": 140,
      "outputs": []
    },
    {
      "cell_type": "code",
      "source": [
        "dt= 0.1\n",
        "sim_length= 4 #seconds\n",
        "time_stamps = np.arange(0, sim_length, dt)\n",
        "\n",
        "# const_steering_angle = 0\n",
        "# steering_angle_array=np.array([np.deg2rad(const_steering_angle)]*len(time_stamps))\n",
        "\n",
        "# steering_angle_range = np.linspace(35, -35, 150)\n",
        "# steering_angle_array = np.array([ np.deg2rad(s) for s in steering_angle_range])\n",
        "\n",
        "L = 2.69 #m #BMW X1\n",
        "v = 1.0 #m/s\n",
        "track_width = 1.58 #m #BMW X1\n",
        "max_steering_angle = np.deg2rad(35)\n",
        "min_steering_angle = np.deg2rad(-35)\n"
      ],
      "metadata": {
        "id": "7D6is_I-TQJR"
      },
      "execution_count": 141,
      "outputs": []
    },
    {
      "cell_type": "code",
      "source": [
        "#final equations\n",
        "def get_rear_wheel_traj(steering_angle):\n",
        "\n",
        "  delta_xy_dict = {}\n",
        "  x_traj=[]\n",
        "  y_traj=[]\n",
        "  theta_traj=[]\n",
        "  R_list=[]\n",
        "  translation_list =[]\n",
        "\n",
        "  for i in range(len(time_stamps)):\n",
        "\n",
        "    t = time_stamps[i]\n",
        "    # steering_angle = steering_angle_array[i]\n",
        "\n",
        "    if steering_angle != 0:\n",
        "\n",
        "      theta = (v*t*np.tan(steering_angle))/L\n",
        "      theta_traj.append(np.rad2deg(theta))\n",
        "\n",
        "      x = (L * np.sin(theta))/np.tan(steering_angle)\n",
        "      y = (L * np.cos(theta))/np.tan(steering_angle)\n",
        "\n",
        "      R= L/np.tan(steering_angle) #radius\n",
        "\n",
        "    elif steering_angle == 0:\n",
        "\n",
        "      max_theta = (v*t*np.tan(max_steering_angle))/L\n",
        "      # min_theta = (v*t*np.tan(min_steering_angle))/L\n",
        "\n",
        "      # theta_traj.append(np.rad2deg(90))\n",
        "\n",
        "      x = (L * np.sin(max_theta))/np.tan(max_steering_angle)\n",
        "      y = (L * np.cos(max_theta))/np.tan(max_steering_angle)\n",
        "\n",
        "      R= L/np.tan(max_steering_angle) #radius\n",
        "\n",
        "    x_traj.append(x)\n",
        "    y_traj.append(y)\n",
        "\n",
        "    R_list.append(R)\n",
        "\n",
        "    t_O_to_axle = np.array([0, - R])\n",
        "    translation_list.append(t_O_to_axle)\n",
        "\n",
        "  #translating from axle center to rear wheels\n",
        "  axle_x_traj=[]\n",
        "  axle_y_traj=[]\n",
        "\n",
        "  for x_pt,y_pt in zip(x_traj,y_traj):\n",
        "    xy_pt = np.array([x_pt,y_pt])\n",
        "\n",
        "    axle_xy_pt = xy_pt + t_O_to_axle\n",
        "\n",
        "    axle_x_traj.append(axle_xy_pt[0])\n",
        "    axle_y_traj.append(axle_xy_pt[1])\n",
        "\n",
        "  if steering_angle == 0:\n",
        "\n",
        "    left_wheel_x_traj = [ (x_pt) for x_pt in axle_x_traj]\n",
        "    left_wheel_y_traj = [ -(y_pt + (track_width/2)) for y_pt in axle_y_traj]\n",
        "\n",
        "  else:\n",
        "    left_wheel_x_traj =  axle_x_traj\n",
        "    left_wheel_y_traj = [ y_pt - (track_width/2) for y_pt in axle_y_traj]\n",
        "\n",
        "\n",
        "  right_wheel_x_traj = [ x_pt for x_pt in axle_x_traj]\n",
        "  right_wheel_y_traj = [ y_pt + (track_width/2) for y_pt in axle_y_traj]\n",
        "\n",
        "  delta_xy_dict[\"axle_x_traj\"] = axle_x_traj\n",
        "  delta_xy_dict[\"axle_y_traj\"] = axle_y_traj\n",
        "  delta_xy_dict[\"left_wheel_x_traj\"] = left_wheel_x_traj\n",
        "  delta_xy_dict[\"left_wheel_y_traj\"] = left_wheel_y_traj\n",
        "  delta_xy_dict[\"right_wheel_x_traj\"] = right_wheel_x_traj\n",
        "  delta_xy_dict[\"right_wheel_y_traj\"] = right_wheel_y_traj\n",
        "\n",
        "  return delta_xy_dict\n",
        "\n"
      ],
      "metadata": {
        "id": "oVTvGb30TQDY"
      },
      "execution_count": 142,
      "outputs": []
    },
    {
      "cell_type": "code",
      "source": [
        "delta_xy_full_dict={}\n",
        "\n",
        "for steering_angle in steering_angle_array:\n",
        "\n",
        "  delta_xy_dict = get_rear_wheel_traj(steering_angle = steering_angle)\n",
        "  delta_xy_full_dict[steering_angle] = delta_xy_dict\n",
        "\n"
      ],
      "metadata": {
        "id": "03tA9BytXmwg"
      },
      "execution_count": 143,
      "outputs": []
    },
    {
      "cell_type": "code",
      "source": [
        "plot_rear_wheel_dict = delta_xy_full_dict[steering_angle_array[25]]"
      ],
      "metadata": {
        "id": "3JpgJkMuXkuh"
      },
      "execution_count": 144,
      "outputs": []
    },
    {
      "cell_type": "code",
      "source": [
        "# sns.set(style=\"whitegrid\")\n",
        "# plt.figure(figsize=(8, 6))\n",
        "# plt.xlim(-4, 4)  # Adjust the limits as needed\n",
        "# plt.ylim(0, 5)\n",
        "# plt.xlabel('track width')\n",
        "# plt.ylabel('view from backup camera')\n",
        "# plt.title('Rear wheel trajectory simulation')\n",
        "\n",
        "\n",
        "# plt.plot(plot_rear_wheel_dict[\"left_wheel_y_traj\"], plot_rear_wheel_dict[\"left_wheel_x_traj\"])\n",
        "# plt.plot(plot_rear_wheel_dict[\"right_wheel_y_traj\"], plot_rear_wheel_dict[\"right_wheel_x_traj\"])\n",
        "\n",
        "# plt.savefig('output_plot.png')\n"
      ],
      "metadata": {
        "id": "iNGk6RXezY-a"
      },
      "execution_count": 145,
      "outputs": []
    },
    {
      "cell_type": "code",
      "source": [
        "#plotting over an image"
      ],
      "metadata": {
        "id": "lDFHWP7Ptyg2"
      },
      "execution_count": 108,
      "outputs": []
    },
    {
      "cell_type": "code",
      "source": [
        "# img = cv2.imread(\"/content/straight_0.png\")\n",
        "# img = cv2.cvtColor(img, cv2.COLOR_BGR2RGB)"
      ],
      "metadata": {
        "id": "Zh7GEO8Kume6"
      },
      "execution_count": 72,
      "outputs": []
    },
    {
      "cell_type": "code",
      "source": [
        "# # img = plt.imread(\"/content/straight_0.png\")\n",
        "# fig, ax = plt.subplots()\n",
        "# ax.imshow(img, extent=[-4, 4, 0, 5])\n",
        "# ax.plot(plot_rear_wheel_dict[\"left_wheel_y_traj\"], plot_rear_wheel_dict[\"axle_x_traj\"], color='firebrick')\n",
        "# ax.plot(plot_rear_wheel_dict[\"right_wheel_y_traj\"], plot_rear_wheel_dict[\"axle_x_traj\"])\n",
        "\n",
        "# # convert figure to canvas\n",
        "# canvas = plt.get_current_fig_manager().canvas\n",
        "\n",
        "# # render the canvas\n",
        "# canvas.draw()\n",
        "\n",
        "# # convert canvas to image\n",
        "# img = np.fromstring(canvas.tostring_rgb(), dtype='uint8')\n",
        "# img = img.reshape(canvas.get_width_height()[::-1] + (3,))\n",
        "# img = cv2.cvtColor(img, cv2.COLOR_RGB2BGR)\n",
        "\n",
        "# # plt.savefig('output_plot.png')\n"
      ],
      "metadata": {
        "id": "CkMvqC5Atydb"
      },
      "execution_count": null,
      "outputs": []
    },
    {
      "cell_type": "code",
      "source": [
        "#plotting over video"
      ],
      "metadata": {
        "id": "7XXcUP5utyay"
      },
      "execution_count": 50,
      "outputs": []
    },
    {
      "cell_type": "code",
      "source": [
        "# cap = cv2.VideoCapture(\"video1_final.mp4\")\n",
        "# width  = int(cap.get(cv2.CAP_PROP_FRAME_WIDTH))\n",
        "# height = int(cap.get(cv2.CAP_PROP_FRAME_HEIGHT))\n",
        "\n",
        "# fourcc = cv2.VideoWriter_fourcc(*'MP4V') #codec\n",
        "# out = cv2.VideoWriter('output_test.mp4', fourcc, 20.0, (width, height))\n",
        "# counter=0\n",
        "# while cap.isOpened():\n",
        "#     ret, frame = cap.read()\n",
        "#     counter+=1\n",
        "#     if not ret:\n",
        "#         print(\"Can't receive frame (stream end?). Exiting ...\")\n",
        "#         break\n",
        "\n",
        "#     out.write(frame)\n",
        "#     if cv2.waitKey(1) == ord('q'):\n",
        "#         break\n",
        "\n",
        "# print(counter)\n",
        "# cap.release()\n",
        "# out.release()\n",
        "# cv2.destroyAllWindows()"
      ],
      "metadata": {
        "colab": {
          "base_uri": "https://localhost:8080/"
        },
        "id": "NJ6ORTJdOLtE",
        "outputId": "ebc27015-4659-4a9b-f226-da1f68a3c934"
      },
      "execution_count": 138,
      "outputs": [
        {
          "output_type": "stream",
          "name": "stdout",
          "text": [
            "Can't receive frame (stream end?). Exiting ...\n",
            "306\n"
          ]
        }
      ]
    },
    {
      "cell_type": "code",
      "source": [
        "cap = cv2.VideoCapture(\"video1_final.mp4\")\n",
        "width  = int(cap.get(cv2.CAP_PROP_FRAME_WIDTH))\n",
        "height = int(cap.get(cv2.CAP_PROP_FRAME_HEIGHT))\n",
        "\n",
        "fourcc = cv2.VideoWriter_fourcc(*'MP4V') #codec\n",
        "out = cv2.VideoWriter('output_overlay_test.mp4', fourcc, 20.0, (640, 480))\n",
        "\n",
        "frame_counter=0\n",
        "while cap.isOpened():\n",
        "    ret, frame = cap.read()\n",
        "\n",
        "    if not ret:\n",
        "        print(\"Return false\")\n",
        "        break\n",
        "\n",
        "    frame = cv2.cvtColor(frame, cv2.COLOR_BGR2RGB)\n",
        "\n",
        "    plot_rear_wheel_dict = delta_xy_full_dict[steering_angle_array[frame_counter]]\n",
        "\n",
        "    fig, ax = plt.subplots()\n",
        "    ax.imshow(frame, extent=[-4, 4, 0, 5])\n",
        "    ax.plot(plot_rear_wheel_dict[\"left_wheel_y_traj\"], plot_rear_wheel_dict[\"left_wheel_x_traj\"], color='firebrick')\n",
        "    ax.plot(plot_rear_wheel_dict[\"right_wheel_y_traj\"], plot_rear_wheel_dict[\"right_wheel_x_traj\"])\n",
        "\n",
        "    frame_counter+=1\n",
        "\n",
        "    # convert figure to canvas\n",
        "    canvas = plt.get_current_fig_manager().canvas\n",
        "    canvas.draw()\n",
        "\n",
        "    # convert canvas to image\n",
        "    overlay_img = np.fromstring(canvas.tostring_rgb(), dtype='uint8')\n",
        "    overlay_img = overlay_img.reshape(canvas.get_width_height()[::-1] + (3,))\n",
        "    overlay_img = cv2.cvtColor(overlay_img, cv2.COLOR_RGB2BGR)\n",
        "\n",
        "    out.write(overlay_img)\n",
        "\n",
        "    plt.close()\n",
        "\n",
        "    if cv2.waitKey(1) == ord('q'):\n",
        "      break\n",
        "\n",
        "print(frame_counter)\n",
        "cap.release()\n",
        "out.release()\n",
        "cv2.destroyAllWindows()\n",
        "\n",
        "\n"
      ],
      "metadata": {
        "colab": {
          "base_uri": "https://localhost:8080/"
        },
        "id": "LOvWbjzM4UWw",
        "outputId": "540e7bab-8b08-4b2d-c08e-6cb9724b542f"
      },
      "execution_count": 151,
      "outputs": [
        {
          "output_type": "stream",
          "name": "stderr",
          "text": [
            "<ipython-input-151-375dc0161cc2>:32: DeprecationWarning: The binary mode of fromstring is deprecated, as it behaves surprisingly on unicode inputs. Use frombuffer instead\n",
            "  overlay_img = np.fromstring(canvas.tostring_rgb(), dtype='uint8')\n"
          ]
        },
        {
          "output_type": "stream",
          "name": "stdout",
          "text": [
            "Return false\n",
            "305\n"
          ]
        }
      ]
    },
    {
      "cell_type": "code",
      "source": [
        "overlay_img.shape"
      ],
      "metadata": {
        "colab": {
          "base_uri": "https://localhost:8080/"
        },
        "id": "WCHALBSV6ts8",
        "outputId": "11a8fc53-f93e-48d9-f38f-33f88a996b06"
      },
      "execution_count": 150,
      "outputs": [
        {
          "output_type": "execute_result",
          "data": {
            "text/plain": [
              "(480, 640, 3)"
            ]
          },
          "metadata": {},
          "execution_count": 150
        }
      ]
    }
  ]
}